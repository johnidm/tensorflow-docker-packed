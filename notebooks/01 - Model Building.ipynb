{
 "cells": [
  {
   "cell_type": "markdown",
   "metadata": {
    "id": "37l7ZV3ZOIB-"
   },
   "source": [
    "# Classificação de texto com TensorFlow"
   ]
  },
  {
   "cell_type": "code",
   "execution_count": 17,
   "metadata": {
    "id": "3Ni-ICsSOWHZ"
   },
   "outputs": [],
   "source": [
    "import pandas as pd\n",
    "import numpy as np\n",
    "import tensorflow as tf\n",
    "import matplotlib.pyplot as plt\n",
    "\n",
    "from tensorflow.keras.preprocessing.text import Tokenizer\n",
    "from tensorflow.keras.preprocessing.sequence import pad_sequences\n",
    "\n",
    "import stopwordsiso as stopwords\n",
    "\n",
    "import re\n",
    "import pickle"
   ]
  },
  {
   "cell_type": "markdown",
   "metadata": {
    "id": "-DOcM4viPv_T"
   },
   "source": [
    "### Obtendo e preparando os dados"
   ]
  },
  {
   "cell_type": "code",
   "execution_count": 2,
   "metadata": {
    "id": "fEr4OlZutxLE"
   },
   "outputs": [],
   "source": [
    "class EncodeTargets():\n",
    "  TARGETS = [\n",
    "            \"contrato\",\n",
    "            \"inadimplemento\",\n",
    "            \"constituicao_mora\",\n",
    "            \"alienacao_fiduciaria\",\n",
    "            \"contrato_alienacao_fiduciaria\",\n",
    "            \"inadimplemento_constituicao_mora\",\n",
    "            \"outros\",\n",
    "  ]\n",
    "\n",
    "  @staticmethod\n",
    "  def predict(label):\n",
    "    for i, v in enumerate(EncodeTargets.TARGETS):\n",
    "      if label == v:\n",
    "        return i\n",
    "    else:\n",
    "      return None\n",
    "\n",
    "  @staticmethod\n",
    "  def inverse(index):\n",
    "    return EncodeTargets.TARGETS[index]"
   ]
  },
  {
   "cell_type": "code",
   "execution_count": 5,
   "metadata": {
    "colab": {
     "base_uri": "https://localhost:8080/",
     "height": 393
    },
    "id": "4stHzcYGODio",
    "outputId": "a00f53d5-2acd-4e5b-a9f2-2d91c94b2742"
   },
   "outputs": [
    {
     "name": "stdout",
     "output_type": "stream",
     "text": [
      "----------------\n",
      "Shape: (3183, 4)\n"
     ]
    },
    {
     "data": {
      "text/html": [
       "<div>\n",
       "<style scoped>\n",
       "    .dataframe tbody tr th:only-of-type {\n",
       "        vertical-align: middle;\n",
       "    }\n",
       "\n",
       "    .dataframe tbody tr th {\n",
       "        vertical-align: top;\n",
       "    }\n",
       "\n",
       "    .dataframe thead th {\n",
       "        text-align: right;\n",
       "    }\n",
       "</style>\n",
       "<table border=\"1\" class=\"dataframe\">\n",
       "  <thead>\n",
       "    <tr style=\"text-align: right;\">\n",
       "      <th></th>\n",
       "      <th>label</th>\n",
       "      <th>text</th>\n",
       "      <th>label_</th>\n",
       "      <th>text_</th>\n",
       "    </tr>\n",
       "  </thead>\n",
       "  <tbody>\n",
       "    <tr>\n",
       "      <th>2174</th>\n",
       "      <td>alienacao_fiduciaria</td>\n",
       "      <td>Como garantia das obrigações contratadas a RÉ ...</td>\n",
       "      <td>3</td>\n",
       "      <td>Como garantia das obrigações contratadas a RÉ ...</td>\n",
       "    </tr>\n",
       "    <tr>\n",
       "      <th>2055</th>\n",
       "      <td>outros</td>\n",
       "      <td>Nestes termos.</td>\n",
       "      <td>6</td>\n",
       "      <td>Nestes termos.</td>\n",
       "    </tr>\n",
       "    <tr>\n",
       "      <th>3694</th>\n",
       "      <td>inadimplemento_constituicao_mora</td>\n",
       "      <td>Contudo, a parte requerida deixou de adimplir ...</td>\n",
       "      <td>5</td>\n",
       "      <td>Contudo, a parte requerida deixou de adimplir ...</td>\n",
       "    </tr>\n",
       "    <tr>\n",
       "      <th>2966</th>\n",
       "      <td>alienacao_fiduciaria</td>\n",
       "      <td>Em decorrência do contrato firmado entre as pa...</td>\n",
       "      <td>3</td>\n",
       "      <td>Em decorrência do contrato firmado entre as pa...</td>\n",
       "    </tr>\n",
       "    <tr>\n",
       "      <th>1880</th>\n",
       "      <td>constituicao_mora</td>\n",
       "      <td>Insta salientar que, por diversas vezes tentou...</td>\n",
       "      <td>2</td>\n",
       "      <td>Insta salientar que, por diversas vezes tentou...</td>\n",
       "    </tr>\n",
       "    <tr>\n",
       "      <th>193</th>\n",
       "      <td>alienacao_fiduciaria</td>\n",
       "      <td>2. Em garantia das obrigações assumidas a ré (...</td>\n",
       "      <td>3</td>\n",
       "      <td>2. Em garantia das obrigações assumidas a ré (...</td>\n",
       "    </tr>\n",
       "    <tr>\n",
       "      <th>1004</th>\n",
       "      <td>constituicao_mora</td>\n",
       "      <td>Nessa linha, ante o inadimplemento e comprovad...</td>\n",
       "      <td>2</td>\n",
       "      <td>Nessa linha, ante o inadimplemento e comprovad...</td>\n",
       "    </tr>\n",
       "    <tr>\n",
       "      <th>1841</th>\n",
       "      <td>inadimplemento</td>\n",
       "      <td>3. Ocorre, porém, que o réu tornou-se inadimpl...</td>\n",
       "      <td>1</td>\n",
       "      <td>3. Ocorre, porém, que o réu tornou-se inadimpl...</td>\n",
       "    </tr>\n",
       "    <tr>\n",
       "      <th>248</th>\n",
       "      <td>outros</td>\n",
       "      <td>5. Assim, o débito vencido do réu, devidamente...</td>\n",
       "      <td>6</td>\n",
       "      <td>5. Assim, o débito vencido do réu, devidamente...</td>\n",
       "    </tr>\n",
       "    <tr>\n",
       "      <th>628</th>\n",
       "      <td>inadimplemento</td>\n",
       "      <td>3. Ocorre, porém, que o(a) Réu(Ré) tornou­se I...</td>\n",
       "      <td>1</td>\n",
       "      <td>3. Ocorre, porém, que o(a) Réu(Ré) tornou­se I...</td>\n",
       "    </tr>\n",
       "  </tbody>\n",
       "</table>\n",
       "</div>"
      ],
      "text/plain": [
       "                                 label  \\\n",
       "2174              alienacao_fiduciaria   \n",
       "2055                            outros   \n",
       "3694  inadimplemento_constituicao_mora   \n",
       "2966              alienacao_fiduciaria   \n",
       "1880                 constituicao_mora   \n",
       "193               alienacao_fiduciaria   \n",
       "1004                 constituicao_mora   \n",
       "1841                    inadimplemento   \n",
       "248                             outros   \n",
       "628                     inadimplemento   \n",
       "\n",
       "                                                   text  label_  \\\n",
       "2174  Como garantia das obrigações contratadas a RÉ ...       3   \n",
       "2055                                     Nestes termos.       6   \n",
       "3694  Contudo, a parte requerida deixou de adimplir ...       5   \n",
       "2966  Em decorrência do contrato firmado entre as pa...       3   \n",
       "1880  Insta salientar que, por diversas vezes tentou...       2   \n",
       "193   2. Em garantia das obrigações assumidas a ré (...       3   \n",
       "1004  Nessa linha, ante o inadimplemento e comprovad...       2   \n",
       "1841  3. Ocorre, porém, que o réu tornou-se inadimpl...       1   \n",
       "248   5. Assim, o débito vencido do réu, devidamente...       6   \n",
       "628   3. Ocorre, porém, que o(a) Réu(Ré) tornou­se I...       1   \n",
       "\n",
       "                                                  text_  \n",
       "2174  Como garantia das obrigações contratadas a RÉ ...  \n",
       "2055                                     Nestes termos.  \n",
       "3694  Contudo, a parte requerida deixou de adimplir ...  \n",
       "2966  Em decorrência do contrato firmado entre as pa...  \n",
       "1880  Insta salientar que, por diversas vezes tentou...  \n",
       "193   2. Em garantia das obrigações assumidas a ré (...  \n",
       "1004  Nessa linha, ante o inadimplemento e comprovad...  \n",
       "1841  3. Ocorre, porém, que o réu tornou-se inadimpl...  \n",
       "248   5. Assim, o débito vencido do réu, devidamente...  \n",
       "628   3. Ocorre, porém, que o(a) Réu(Ré) tornou­se I...  "
      ]
     },
     "execution_count": 5,
     "metadata": {},
     "output_type": "execute_result"
    }
   ],
   "source": [
    "DATA_SET_FILE = \"../dataset/data.v1.csv\"\n",
    "\n",
    "df = pd.read_csv(DATA_SET_FILE, \n",
    "                 usecols=[\"label\", \"text\"]).drop_duplicates(subset=['text']).sample(frac=1)\n",
    "\n",
    "df[\"label_\"] = df[\"label\"].apply(lambda l: EncodeTargets.predict(l))\n",
    "df[\"text_\"] = df[\"text\"].apply(lambda t: t)\n",
    "\n",
    "print(\"----------------\")\n",
    "print(f\"Shape: {df.shape}\")\n",
    "\n",
    "df.head(10)"
   ]
  },
  {
   "cell_type": "code",
   "execution_count": 6,
   "metadata": {
    "id": "MRQQEpb3qdTK"
   },
   "outputs": [],
   "source": [
    "sentences = df.text_.values\n",
    "labels = df.label_.values"
   ]
  },
  {
   "cell_type": "code",
   "execution_count": 7,
   "metadata": {
    "colab": {
     "base_uri": "https://localhost:8080/"
    },
    "id": "OqCnfD0jOzq5",
    "outputId": "57e8d8be-a84c-4b13-ea5a-d91767c3738b"
   },
   "outputs": [
    {
     "name": "stdout",
     "output_type": "stream",
     "text": [
      "Train length: 2546\n",
      "Test length: 637\n"
     ]
    }
   ],
   "source": [
    "train_size = int(0.8 * len(labels))\n",
    "\n",
    "train_sentences = sentences[:train_size]\n",
    "train_labels = labels[:train_size]\n",
    "\n",
    "validation_sentences = sentences[train_size:]\n",
    "validation_labels = labels[train_size:]\n",
    "\n",
    "print(f\"Train length: {len(train_sentences)}\")\n",
    "print(f\"Test length: {len(validation_sentences)}\")"
   ]
  },
  {
   "cell_type": "markdown",
   "metadata": {
    "id": "ubL30-yzPzt1"
   },
   "source": [
    "### Tokenizer"
   ]
  },
  {
   "cell_type": "markdown",
   "metadata": {
    "id": "un6pEpKdD3bn"
   },
   "source": [
    "Definição dos hiperparâmetros"
   ]
  },
  {
   "cell_type": "code",
   "execution_count": 8,
   "metadata": {
    "id": "uL2HsA28OY9T"
   },
   "outputs": [],
   "source": [
    "vocab_size = 10000\n",
    "embedding_dim = 16\n",
    "max_length = 250\n",
    "trunc_type = 'post'\n",
    "padding_type = 'post'\n",
    "oov_tok = '<OOV>'"
   ]
  },
  {
   "cell_type": "markdown",
   "metadata": {
    "id": "or0sbvXaSrjv"
   },
   "source": [
    "A idéia principal de dividir seu conjunto de dados em treinar e teste é avaliar seu modelo performa bem em dados desconhecidos. \n",
    "Dito isso, se você ajustar seu tokenizer em um conjunto de dados inteiro, de alguma forma está enviesando seu modelo. Para uma boa avaliação do seu modelo, você deve levar em consideração tokens não conhecidos. Portanto, como qualquer outro tipo de \"extração de recursos\", as melhores práticas é usar somente os dados de treino.\n"
   ]
  },
  {
   "cell_type": "code",
   "execution_count": 9,
   "metadata": {
    "id": "gYc1VkKgQ6sB"
   },
   "outputs": [],
   "source": [
    "tokenizer = Tokenizer(num_words=vocab_size, oov_token=oov_tok)\n",
    "tokenizer.fit_on_texts(train_sentences)\n",
    "\n",
    "word_index = tokenizer.word_index\n",
    "\n",
    "train_sequences = tokenizer.texts_to_sequences(train_sentences)\n",
    "train_padded = pad_sequences(train_sequences, padding=padding_type, maxlen=max_length)\n",
    "\n",
    "validation_sequences = tokenizer.texts_to_sequences(validation_sentences)\n",
    "validation_padded = pad_sequences(validation_sequences, padding = padding_type, maxlen=max_length)"
   ]
  },
  {
   "cell_type": "code",
   "execution_count": 10,
   "metadata": {
    "colab": {
     "base_uri": "https://localhost:8080/"
    },
    "id": "xozxORIeYQoq",
    "outputId": "a45de180-3617-4b5a-d764-1a14eece991d"
   },
   "outputs": [
    {
     "name": "stdout",
     "output_type": "stream",
     "text": [
      "Found 8124 unique tokens.\n"
     ]
    },
    {
     "data": {
      "text/plain": [
       "{'<OOV>': 1,\n",
       " 'de': 2,\n",
       " 'e': 3,\n",
       " 'o': 4,\n",
       " 'a': 5,\n",
       " 'em': 6,\n",
       " 'do': 7,\n",
       " 'com': 8,\n",
       " 'da': 9,\n",
       " 'no': 10}"
      ]
     },
     "execution_count": 10,
     "metadata": {},
     "output_type": "execute_result"
    }
   ],
   "source": [
    "print('Found %s unique tokens.' % len(word_index))\n",
    "dict(list(word_index.items())[0:10])"
   ]
  },
  {
   "cell_type": "code",
   "execution_count": 11,
   "metadata": {
    "colab": {
     "base_uri": "https://localhost:8080/"
    },
    "id": "1u-ECByjYYe7",
    "outputId": "5c2251e3-3b1f-45b8-b69c-56a177a32510"
   },
   "outputs": [
    {
     "name": "stdout",
     "output_type": "stream",
     "text": [
      "Model: \"sequential\"\n",
      "_________________________________________________________________\n",
      "Layer (type)                 Output Shape              Param #   \n",
      "=================================================================\n",
      "embedding (Embedding)        (None, 250, 16)           160000    \n",
      "_________________________________________________________________\n",
      "global_average_pooling1d (Gl (None, 16)                0         \n",
      "_________________________________________________________________\n",
      "dense (Dense)                (None, 24)                408       \n",
      "_________________________________________________________________\n",
      "dense_1 (Dense)              (None, 7)                 175       \n",
      "=================================================================\n",
      "Total params: 160,583\n",
      "Trainable params: 160,583\n",
      "Non-trainable params: 0\n",
      "_________________________________________________________________\n"
     ]
    }
   ],
   "source": [
    "model = tf.keras.Sequential([\n",
    " tf.keras.layers.Embedding(vocab_size, embedding_dim, input_length=max_length),\n",
    " tf.keras.layers.GlobalAveragePooling1D(),\n",
    " tf.keras.layers.Dense(24, activation='relu'),\n",
    " tf.keras.layers.Dense(7, activation='softmax')\n",
    "])\n",
    "\n",
    "model.compile(loss='sparse_categorical_crossentropy', optimizer='adam', metrics=['accuracy'])\n",
    "model.summary()"
   ]
  },
  {
   "cell_type": "code",
   "execution_count": 12,
   "metadata": {
    "colab": {
     "base_uri": "https://localhost:8080/"
    },
    "id": "vXSq-TUQbUpM",
    "outputId": "d6d08966-a187-4bfd-f221-bfb01f306fcc"
   },
   "outputs": [
    {
     "name": "stdout",
     "output_type": "stream",
     "text": [
      "Epoch 1/20\n",
      "80/80 - 1s - loss: 1.9067 - accuracy: 0.2482 - val_loss: 1.8592 - val_accuracy: 0.2684\n",
      "Epoch 2/20\n",
      "80/80 - 0s - loss: 1.8307 - accuracy: 0.2482 - val_loss: 1.7900 - val_accuracy: 0.2684\n",
      "Epoch 3/20\n",
      "80/80 - 0s - loss: 1.7346 - accuracy: 0.2706 - val_loss: 1.6643 - val_accuracy: 0.2983\n",
      "Epoch 4/20\n",
      "80/80 - 0s - loss: 1.5504 - accuracy: 0.4556 - val_loss: 1.4319 - val_accuracy: 0.4914\n",
      "Epoch 5/20\n",
      "80/80 - 0s - loss: 1.2733 - accuracy: 0.5962 - val_loss: 1.1560 - val_accuracy: 0.6970\n",
      "Epoch 6/20\n",
      "80/80 - 0s - loss: 1.0096 - accuracy: 0.7227 - val_loss: 0.9151 - val_accuracy: 0.7535\n",
      "Epoch 7/20\n",
      "80/80 - 0s - loss: 0.8028 - accuracy: 0.7577 - val_loss: 0.7298 - val_accuracy: 0.7598\n",
      "Epoch 8/20\n",
      "80/80 - 0s - loss: 0.6516 - accuracy: 0.7797 - val_loss: 0.6033 - val_accuracy: 0.7786\n",
      "Epoch 9/20\n",
      "80/80 - 0s - loss: 0.5483 - accuracy: 0.8095 - val_loss: 0.5217 - val_accuracy: 0.8053\n",
      "Epoch 10/20\n",
      "80/80 - 0s - loss: 0.4740 - accuracy: 0.8429 - val_loss: 0.4625 - val_accuracy: 0.8257\n",
      "Epoch 11/20\n",
      "80/80 - 0s - loss: 0.4188 - accuracy: 0.8645 - val_loss: 0.4110 - val_accuracy: 0.8791\n",
      "Epoch 12/20\n",
      "80/80 - 0s - loss: 0.3743 - accuracy: 0.8987 - val_loss: 0.3717 - val_accuracy: 0.8901\n",
      "Epoch 13/20\n",
      "80/80 - 0s - loss: 0.3362 - accuracy: 0.9132 - val_loss: 0.3411 - val_accuracy: 0.8901\n",
      "Epoch 14/20\n",
      "80/80 - 0s - loss: 0.3064 - accuracy: 0.9179 - val_loss: 0.3144 - val_accuracy: 0.9027\n",
      "Epoch 15/20\n",
      "80/80 - 0s - loss: 0.2782 - accuracy: 0.9289 - val_loss: 0.2939 - val_accuracy: 0.9199\n",
      "Epoch 16/20\n",
      "80/80 - 0s - loss: 0.2561 - accuracy: 0.9372 - val_loss: 0.2706 - val_accuracy: 0.9152\n",
      "Epoch 17/20\n",
      "80/80 - 0s - loss: 0.2365 - accuracy: 0.9383 - val_loss: 0.2560 - val_accuracy: 0.9246\n",
      "Epoch 18/20\n",
      "80/80 - 0s - loss: 0.2179 - accuracy: 0.9466 - val_loss: 0.2418 - val_accuracy: 0.9325\n",
      "Epoch 19/20\n",
      "80/80 - 0s - loss: 0.2026 - accuracy: 0.9474 - val_loss: 0.2301 - val_accuracy: 0.9341\n",
      "Epoch 20/20\n",
      "80/80 - 0s - loss: 0.1896 - accuracy: 0.9548 - val_loss: 0.2151 - val_accuracy: 0.9356\n"
     ]
    }
   ],
   "source": [
    "num_epochs = 20\n",
    "\n",
    "history = model.fit(train_padded, train_labels, \n",
    "                    epochs = num_epochs, \n",
    "                    validation_data=(validation_padded, validation_labels), \n",
    "                    verbose=2)"
   ]
  },
  {
   "cell_type": "code",
   "execution_count": 13,
   "metadata": {
    "colab": {
     "base_uri": "https://localhost:8080/",
     "height": 541
    },
    "id": "Sll03q9NZDiW",
    "outputId": "cf1e7be8-8589-4808-cf97-518029beb262"
   },
   "outputs": [
    {
     "data": {
      "image/png": "[encoded data removed]",
      "text/plain": [
       "<Figure size 432x288 with 1 Axes>"
      ]
     },
     "metadata": {
      "needs_background": "light"
     },
     "output_type": "display_data"
    },
    {
     "data": {
      "image/png": "[encoded data removed]",
      "text/plain": [
       "<Figure size 432x288 with 1 Axes>"
      ]
     },
     "metadata": {
      "needs_background": "light"
     },
     "output_type": "display_data"
    }
   ],
   "source": [
    "def plot_graphs(history, string):\n",
    "  plt.plot(history.history[string])\n",
    "  plt.plot(history.history['val_'+string])\n",
    "  plt.xlabel(\"Epochs\")\n",
    "  plt.ylabel(string)\n",
    "  plt.legend([string, 'val_'+string])\n",
    "  plt.show()\n",
    "\n",
    "plot_graphs(history, \"accuracy\")\n",
    "plot_graphs(history, \"loss\")"
   ]
  },
  {
   "cell_type": "code",
   "execution_count": 18,
   "metadata": {
    "colab": {
     "base_uri": "https://localhost:8080/"
    },
    "id": "w9tgIOzIsr9q",
    "outputId": "307634c0-4255-41fc-f052-147700818e0e"
   },
   "outputs": [
    {
     "name": "stdout",
     "output_type": "stream",
     "text": [
      "---\n",
      "\n",
      "3. Ocorre, porém, que o Réu se tornou\n",
      "inadimplente, deixando de efetuar o pagamento das prestações a partir de 10\n",
      "de julho de 2018 incorrendo em mora desde então, nos termos do artigo 2o e\n",
      "§ 2o, do Decreto-Lei 911/69, com as alterações da Lei 13.043/2014.\n",
      "\n",
      " contrato — 0.0034 %\n",
      " inadimplemento — 93.9835 %\n",
      " constituicao_mora — 1.4684 %\n",
      " alienacao_fiduciaria — 0.0052 %\n",
      " contrato_alienacao_fiduciaria — 0.0 %\n",
      " inadimplemento_constituicao_mora — 4.526 %\n",
      " outros — 0.0135 %\n",
      "---\n",
      "\n",
      "4. O Autor, seguindo os procedimentos\n",
      "estabelecidos pela Lei 13.043/2014, constituiu a mora do Réu, por meio da\n",
      "notificação extrajudicial anexada.\n",
      "\n",
      " contrato — 3.3074 %\n",
      " inadimplemento — 9.7017 %\n",
      " constituicao_mora — 61.3512 %\n",
      " alienacao_fiduciaria — 5.3374 %\n",
      " contrato_alienacao_fiduciaria — 0.792 %\n",
      " inadimplemento_constituicao_mora — 3.9786 %\n",
      " outros — 15.5317 %\n",
      "---\n",
      "\n",
      "Na data de 11/11/2013, as partes celebraram (Contrato de Financiamento\n",
      "com Garantia de Alienação Fiduciária/Cédula de Crédito) (d oc. a ne xo\n",
      "c ontr ato o u c éd u la), sob o no 30410000000569736952 no valor total de\n",
      "R$ 28.186,08, com pagamento por meio de 48 parcelas mensais e\n",
      "consecutivas. Tendo como objeto o bem com as seguintes características:\n",
      "\n",
      "Marca: Volkswagen\n",
      "Modelo: Gol (G4) (Tf) Plus1.0\n",
      "Ano: 2008 / 2008\n",
      "Cor: Cinza\n",
      "Placa: EAQ8370\n",
      "RENAVAM:\n",
      "CHASSI: 9BWAA05W89P032610\n",
      "\n",
      " contrato — 4.0329 %\n",
      " inadimplemento — 0.0001 %\n",
      " constituicao_mora — 0.1295 %\n",
      " alienacao_fiduciaria — 0.266 %\n",
      " contrato_alienacao_fiduciaria — 95.5387 %\n",
      " inadimplemento_constituicao_mora — 0.0024 %\n",
      " outros — 0.0304 %\n",
      "---\n",
      "\n",
      "A parte Ré, em conformidade com o competente Contrato\n",
      "de Alienação Fiduciária de Participação em Grupo de Consórcio, obteve junto a\n",
      "Autora um crédito para aquisição de bens.\n",
      "\n",
      " contrato — 66.7776 %\n",
      " inadimplemento — 0.9144 %\n",
      " constituicao_mora — 17.4581 %\n",
      " alienacao_fiduciaria — 0.3753 %\n",
      " contrato_alienacao_fiduciaria — 3.2683 %\n",
      " inadimplemento_constituicao_mora — 4.464 %\n",
      " outros — 6.7424 %\n"
     ]
    }
   ],
   "source": [
    "texts = [\n",
    "\"\"\"\n",
    "3. Ocorre, porém, que o Réu se tornou\n",
    "inadimplente, deixando de efetuar o pagamento das prestações a partir de 10\n",
    "de julho de 2018 incorrendo em mora desde então, nos termos do artigo 2o e\n",
    "§ 2o, do Decreto-Lei 911/69, com as alterações da Lei 13.043/2014.\n",
    "\"\"\",\n",
    "\"\"\"\n",
    "4. O Autor, seguindo os procedimentos\n",
    "estabelecidos pela Lei 13.043/2014, constituiu a mora do Réu, por meio da\n",
    "notificação extrajudicial anexada.\n",
    "\"\"\",\n",
    "\"\"\"\n",
    "Na data de 11/11/2013, as partes celebraram (Contrato de Financiamento\n",
    "com Garantia de Alienação Fiduciária/Cédula de Crédito) (d oc. a ne xo\n",
    "c ontr ato o u c éd u la), sob o no 30410000000569736952 no valor total de\n",
    "R$ 28.186,08, com pagamento por meio de 48 parcelas mensais e\n",
    "consecutivas. Tendo como objeto o bem com as seguintes características:\n",
    "\n",
    "Marca: Volkswagen\n",
    "Modelo: Gol (G4) (Tf) Plus1.0\n",
    "Ano: 2008 / 2008\n",
    "Cor: Cinza\n",
    "Placa: EAQ8370\n",
    "RENAVAM:\n",
    "CHASSI: 9BWAA05W89P032610\n",
    "\"\"\",\n",
    "\"\"\"\n",
    "A parte Ré, em conformidade com o competente Contrato\n",
    "de Alienação Fiduciária de Participação em Grupo de Consórcio, obteve junto a\n",
    "Autora um crédito para aquisição de bens.\n",
    "\"\"\"\n",
    "]\n",
    "\n",
    "padded_text = pad_sequences(tokenizer.texts_to_sequences(texts),maxlen=max_length, truncating=trunc_type)\n",
    "\n",
    "predictotron=model.predict(padded_text)\n",
    "\n",
    "for item, text in zip(predictotron, texts):\n",
    "  print(\"---\")\n",
    "  print(text)\n",
    "  for index, ele in enumerate(item):\n",
    "    print(f\" {EncodeTargets.inverse(index)} — \" + str(round(ele*100,4))+\" %\")\n",
    " "
   ]
  },
  {
   "cell_type": "markdown",
   "metadata": {
    "id": "BaQsnb_Rt6Co"
   },
   "source": [
    "### Save the Model"
   ]
  },
  {
   "cell_type": "code",
   "execution_count": 19,
   "metadata": {},
   "outputs": [
    {
     "name": "stdout",
     "output_type": "stream",
     "text": [
      "INFO:tensorflow:Assets written to: ../app/model/assets\n"
     ]
    }
   ],
   "source": [
    "model_dir = \"../app/model\"\n",
    "model_bin = f\"{model_dir}/model.bin\"\n",
    "\n",
    "model.save(model_dir)\n",
    "\n",
    "data = (tokenizer,)\n",
    "with open(model_bin,'wb') as f:\n",
    "  pickle.dump(data, f)"
   ]
  },
  {
   "cell_type": "code",
   "execution_count": 20,
   "metadata": {},
   "outputs": [],
   "source": [
    "r_model = tf.keras.models.load_model(model_dir)\n",
    "\n",
    "with open(model_bin,'rb') as f:\n",
    "  r_tokenizer, = pickle.load(f)"
   ]
  },
  {
   "cell_type": "code",
   "execution_count": 22,
   "metadata": {
    "scrolled": true
   },
   "outputs": [
    {
     "name": "stdout",
     "output_type": "stream",
     "text": [
      " 0 — 0.6677758693695068\n",
      " 1 — 0.009144342504441738\n",
      " 2 — 0.174580916762352\n",
      " 3 — 0.003752762218937278\n",
      " 4 — 0.03268261253833771\n",
      " 5 — 0.044639572501182556\n",
      " 6 — 0.0674239993095398\n"
     ]
    }
   ],
   "source": [
    "text = \"\"\"\n",
    "A parte Ré, em conformidade com o competente Contrato\n",
    "de Alienação Fiduciária de Participação em Grupo de Consórcio, obteve junto a\n",
    "Autora um crédito para aquisição de bens.\n",
    "\"\"\"\n",
    "\n",
    "padded_text = pad_sequences(r_tokenizer.texts_to_sequences([text]), maxlen=max_length, truncating=trunc_type)\n",
    "\n",
    "predict = r_model.predict(padded_text)\n",
    "\n",
    "for index, ele in enumerate(predict[0]):\n",
    "    print(f\" {index} — {ele}\")"
   ]
  }
 ],
 "metadata": {
  "colab": {
   "collapsed_sections": [],
   "name": "Text Classification with TensorFlow 1",
   "provenance": []
  },
  "kernelspec": {
   "display_name": "Python 3",
   "language": "python",
   "name": "python3"
  },
  "language_info": {
   "codemirror_mode": {
    "name": "ipython",
    "version": 3
   },
   "file_extension": ".py",
   "mimetype": "text/x-python",
   "name": "python",
   "nbconvert_exporter": "python",
   "pygments_lexer": "ipython3",
   "version": "3.8.6"
  }
 },
 "nbformat": 4,
 "nbformat_minor": 1
}
