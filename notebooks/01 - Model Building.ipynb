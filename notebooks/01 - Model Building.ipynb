{
 "cells": [
  {
   "cell_type": "markdown",
   "metadata": {
    "id": "37l7ZV3ZOIB-"
   },
   "source": [
    "# Classificação de texto com TensorFlow"
   ]
  },
  {
   "cell_type": "code",
   "execution_count": null,
   "metadata": {
    "id": "3Ni-ICsSOWHZ"
   },
   "outputs": [],
   "source": [
    "import numpy as np\n",
    "import tensorflow as tf\n",
    "\n",
    "from tensorflow.keras import preprocessing\n",
    "\n",
    "from tensorflow.keras.layers.experimental.preprocessing import TextVectorization"
   ]
  },
  {
   "cell_type": "code",
   "execution_count": null,
   "metadata": {},
   "outputs": [],
   "source": [
    "tf.__version__"
   ]
  },
  {
   "cell_type": "markdown",
   "metadata": {
    "id": "-DOcM4viPv_T"
   },
   "source": [
    "### Obtendo e preparando os dados"
   ]
  },
  {
   "cell_type": "code",
   "execution_count": null,
   "metadata": {
    "colab": {
     "base_uri": "https://localhost:8080/",
     "height": 393
    },
    "id": "4stHzcYGODio",
    "outputId": "a00f53d5-2acd-4e5b-a9f2-2d91c94b2742"
   },
   "outputs": [],
   "source": [
    "train_dir = \"../dataset/v1/\"\n",
    "\n",
    "batch_size = 32\n",
    "seed = 42\n",
    "validation_split = 0.2\n",
    "\n",
    "raw_train_ds = preprocessing.text_dataset_from_directory(\n",
    "    train_dir,\n",
    "    batch_size=batch_size,\n",
    "    validation_split=validation_split,\n",
    "    subset='training',\n",
    "    seed=seed)\n",
    "\n",
    "raw_val_ds = preprocessing.text_dataset_from_directory(\n",
    "    train_dir,\n",
    "    batch_size=batch_size,\n",
    "    validation_split=validation_split,\n",
    "    subset='validation',\n",
    "    seed=seed)"
   ]
  },
  {
   "cell_type": "code",
   "execution_count": null,
   "metadata": {},
   "outputs": [],
   "source": [
    "for index, label in enumerate(raw_train_ds.class_names):\n",
    "  print(f\"Label {index} corresponde a '{label}'\")"
   ]
  },
  {
   "cell_type": "code",
   "execution_count": null,
   "metadata": {},
   "outputs": [],
   "source": [
    "for text_batch, label_batch in raw_train_ds.take(1):\n",
    "  for i in range(5):\n",
    "    print(\"Texto: \", text_batch.numpy()[i][:50], '...')\n",
    "    print(\"Label:\", label_batch.numpy()[i])"
   ]
  },
  {
   "cell_type": "markdown",
   "metadata": {
    "id": "ubL30-yzPzt1"
   },
   "source": [
    "### Tokenizer"
   ]
  },
  {
   "cell_type": "code",
   "execution_count": null,
   "metadata": {},
   "outputs": [],
   "source": [
    "VOCAB_SIZE = 10000\n",
    "\n",
    "vectorize_layer = TextVectorization(\n",
    "    max_tokens=VOCAB_SIZE,\n",
    "    output_mode='binary')"
   ]
  },
  {
   "cell_type": "code",
   "execution_count": null,
   "metadata": {},
   "outputs": [],
   "source": [
    "train_text = raw_train_ds.map(lambda text, labels: text)\n",
    "\n",
    "vectorize_layer.adapt(train_text)"
   ]
  },
  {
   "cell_type": "code",
   "execution_count": null,
   "metadata": {},
   "outputs": [],
   "source": [
    "def binary_vectorize_text(text, label):\n",
    "  text = tf.expand_dims(text, -1)\n",
    "  return vectorize_layer(text), label"
   ]
  },
  {
   "cell_type": "code",
   "execution_count": null,
   "metadata": {},
   "outputs": [],
   "source": [
    "train_ds = raw_train_ds.map(binary_vectorize_text)\n",
    "val_ds = raw_val_ds.map(binary_vectorize_text)"
   ]
  },
  {
   "cell_type": "code",
   "execution_count": null,
   "metadata": {},
   "outputs": [],
   "source": [
    "AUTOTUNE = tf.data.experimental.AUTOTUNE\n",
    "\n",
    "def configure_dataset(dataset):\n",
    "  return dataset.cache().prefetch(buffer_size=AUTOTUNE)"
   ]
  },
  {
   "cell_type": "code",
   "execution_count": null,
   "metadata": {},
   "outputs": [],
   "source": [
    "train_ds = configure_dataset(train_ds)\n",
    "val_ds = configure_dataset(val_ds)"
   ]
  },
  {
   "cell_type": "code",
   "execution_count": null,
   "metadata": {
    "colab": {
     "base_uri": "https://localhost:8080/"
    },
    "id": "1u-ECByjYYe7",
    "outputId": "5c2251e3-3b1f-45b8-b69c-56a177a32510"
   },
   "outputs": [],
   "source": [
    "model = tf.keras.Sequential([\n",
    "                                    tf.keras.layers.Dense(5)\n",
    "                                    ])\n",
    "\n",
    "model.compile(\n",
    "    loss=tf.keras.losses.SparseCategoricalCrossentropy(from_logits=True),\n",
    "    optimizer='adam',\n",
    "    metrics=['accuracy'])\n",
    "\n",
    "history = model.fit(\n",
    "    train_ds, validation_data=val_ds, epochs=10)"
   ]
  },
  {
   "cell_type": "code",
   "execution_count": null,
   "metadata": {},
   "outputs": [],
   "source": [
    "model.summary()"
   ]
  },
  {
   "cell_type": "markdown",
   "metadata": {
    "id": "BaQsnb_Rt6Co"
   },
   "source": [
    "### Save the Model"
   ]
  },
  {
   "cell_type": "code",
   "execution_count": null,
   "metadata": {},
   "outputs": [],
   "source": [
    "model_dir = \"../app/model\""
   ]
  },
  {
   "cell_type": "code",
   "execution_count": null,
   "metadata": {},
   "outputs": [],
   "source": [
    "export_model = tf.keras.Sequential(\n",
    "    [vectorize_layer, model,\n",
    "     tf.keras.layers.Activation('sigmoid')])\n",
    "\n",
    "export_model.compile(\n",
    "    loss=tf.keras.losses.SparseCategoricalCrossentropy(from_logits=False),\n",
    "    optimizer='adam',\n",
    "    metrics=['accuracy'])\n",
    "\n",
    "loss, accuracy = export_model.evaluate(raw_train_ds)\n",
    "print(\"Accuracy: {:2.2%}\".format(accuracy))\n",
    "\n",
    "export_model.save(model_dir)"
   ]
  },
  {
   "cell_type": "code",
   "execution_count": null,
   "metadata": {},
   "outputs": [],
   "source": [
    "loaded_model = tf.keras.models.load_model(model_dir)"
   ]
  },
  {
   "cell_type": "code",
   "execution_count": null,
   "metadata": {
    "scrolled": true
   },
   "outputs": [],
   "source": [
    "def get_string_labels(predicted_scores_batch):\n",
    "  predicted_int_labels = tf.argmax(predicted_scores_batch, axis=1)\n",
    "  predicted_labels = tf.gather(raw_train_ds.class_names, predicted_int_labels)\n",
    "  return predicted_labels"
   ]
  },
  {
   "cell_type": "code",
   "execution_count": null,
   "metadata": {},
   "outputs": [],
   "source": [
    "inputs = [\n",
    "    \"\"\"\n",
    "    Congresso e STF criticam Bolsonaro por discurso\n",
    "    \"\"\",\n",
    "    \"\"\"\n",
    "    A CBF já começa a traçar o planejamento para as competições femininas no próximo ano. Um ponto entrou em debate em conversa com os clubes. A entidade deseja que todas as atletas que disputam a Série A1 do Brasileiro feminino tenham carteira assinada. A Confederação Brasileira de Futebol também planeja realizar torneios regionais, a partir de 2022 - ao estilo Rio/SP e Sul/Minas, entre outras regiões. A objetivo é ampliar um pouco mais o número de jogos no calendário, ainda carente ao longo do ano. A ideia de Copas não foi descartada para as temporadas seguintes.\n",
    "    \"\"\",\n",
    "    \"\"\"\n",
    "    A Câmara dos Deputados aprovou nesta quinta-feira (10) um projeto de lei que estabelece normas para combater e punir a violência política contra mulheres, inserindo novos dispositivos no Código Eleitoral e na Lei das Eleições. O texto ainda será analisado pelo Senado.\n",
    "\n",
    "A proposta é uma reação aos casos de ataques a candidatas nas últimas eleições municipais.\n",
    "\n",
    "O projeto classifica como violência política contra a mulher \"toda ação, conduta ou omissão com a finalidade de impedir, obstaculizar, ou restringir os direitos políticos das mulheres\".\n",
    "\n",
    "O projeto determina que “as autoridades competentes privilegiarão o imediato exercício do direito violado, conferindo especial importância às declarações da vítima e aos elementos indiciários”.\n",
    "    \"\"\"\n",
    "]\n",
    "predicted_scores = loaded_model.predict(inputs)\n",
    "\n",
    "predicted_labels = get_string_labels(predicted_scores)\n",
    "\n",
    "print(predicted_labels)\n",
    "\n",
    "for input, label in zip(inputs, predicted_labels):\n",
    "  print(\"Text: \", input)\n",
    "  print(\"Label: \", label.numpy())"
   ]
  }
 ],
 "metadata": {
  "colab": {
   "collapsed_sections": [],
   "name": "Text Classification with TensorFlow 1",
   "provenance": []
  },
  "kernelspec": {
   "display_name": "Python 3",
   "language": "python",
   "name": "python3"
  },
  "language_info": {
   "codemirror_mode": {
    "name": "ipython",
    "version": 3
   },
   "file_extension": ".py",
   "mimetype": "text/x-python",
   "name": "python",
   "nbconvert_exporter": "python",
   "pygments_lexer": "ipython3",
   "version": "3.8.6"
  }
 },
 "nbformat": 4,
 "nbformat_minor": 1
}
