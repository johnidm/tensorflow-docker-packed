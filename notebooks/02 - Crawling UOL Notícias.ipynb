{
 "cells": [
  {
   "cell_type": "code",
   "execution_count": null,
   "metadata": {},
   "outputs": [],
   "source": [
    "import requests\n",
    "from bs4 import BeautifulSoup\n",
    "import json"
   ]
  },
  {
   "cell_type": "code",
   "execution_count": null,
   "metadata": {},
   "outputs": [],
   "source": [
    "URLs = [\n",
    "    \"https://educacao.uol.com.br/noticias/2020/12/14/novo-fundeb-fineduca-campanha-nacional-pelo-direito-a-educacao.htm\",\n",
    "    \"https://noticias.uol.com.br/eleicoes/2020/12/14/eduardo-paes-define-seus-23-secretarios-municipais-veja-lista.htm\",\n",
    "    \"https://www.uol.com.br/carros/avaliacao/renault-sandero-gt-line-10-disfarca-desempenho-pacato-com-estilo-esportivo.htm\",\n",
    "    \"https://www.uol.com.br/esporte/futebol/ultimas-noticias/2020/12/14/neymar-lesao-tornozelo.htm\",\n",
    "]"
   ]
  },
  {
   "cell_type": "code",
   "execution_count": null,
   "metadata": {},
   "outputs": [],
   "source": [
    "def do_crawl(url):\n",
    "    \n",
    "    e = lambda t : json.dumps(t)\n",
    "    \n",
    "    page = requests.get(url)\n",
    "    soup = BeautifulSoup(page.content, \"html.parser\")\n",
    "\n",
    "    title = soup.find(\"i\", class_=\"custom-title\").text\n",
    "    article = \" \".join([p.text for p in soup.find(\"div\", class_=\"text\").find_all(\"p\")])\n",
    "    \n",
    "    return e(title), e(article)"
   ]
  },
  {
   "cell_type": "code",
   "execution_count": null,
   "metadata": {},
   "outputs": [],
   "source": [
    "news = [do_crawl(url) for url in URLs]\n",
    "\n",
    "print(f\"Crawled {len(news)} news\")"
   ]
  },
  {
   "cell_type": "code",
   "execution_count": null,
   "metadata": {},
   "outputs": [],
   "source": [
    "title, article = news[3]\n",
    "\n",
    "print(f\"{title}\")\n",
    "print(\"----\")\n",
    "print(f\"{article}\")"
   ]
  }
 ],
 "metadata": {
  "kernelspec": {
   "display_name": "Python 3",
   "language": "python",
   "name": "python3"
  },
  "language_info": {
   "codemirror_mode": {
    "name": "ipython",
    "version": 3
   },
   "file_extension": ".py",
   "mimetype": "text/x-python",
   "name": "python",
   "nbconvert_exporter": "python",
   "pygments_lexer": "ipython3",
   "version": "3.8.6"
  }
 },
 "nbformat": 4,
 "nbformat_minor": 4
}
